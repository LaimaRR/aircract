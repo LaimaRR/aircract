{
 "cells": [
  {
   "cell_type": "code",
   "execution_count": 7,
   "metadata": {},
   "outputs": [
    {
     "name": "stdout",
     "output_type": "stream",
     "text": [
      "(4, 'B737-400', 'BOEING 737-400')\n",
      "(5, 'B737-500', 'BOEING 737-500')\n",
      "(6, 'B737-700', 'BOEING 737-700 ')\n",
      "(7, 'B737-800', 'BOEING 737-800')\n",
      "(1, 'A320', 'AIRBUS A320')\n",
      "(8, 'A321', 'AIRBUS A321')\n",
      "(9, 'CRJ200', 'Bombardier CRJ200')\n",
      "(10, 'ATR42-300', 'ATR 42-300')\n",
      "(11, 'ATR72-200', 'ATR 72-200')\n"
     ]
    }
   ],
   "source": [
    "import psycopg2\n",
    "\n",
    "conn = psycopg2.connect(database='lektuvai', user='Laima', password='Laima', host='localhost', port=\"5432\")\n",
    "cursor = conn.cursor()\n",
    "cursor.execute('SELECT * FROM MODEL')\n",
    "row = cursor.fetchone()\n",
    "rows = cursor.fetchall()\n",
    "for row in rows:\n",
    "    print(row)\n",
    "conn.close()\n"
   ]
  },
  {
   "cell_type": "code",
   "execution_count": 1,
   "metadata": {},
   "outputs": [
    {
     "name": "stdout",
     "output_type": "stream",
     "text": [
      "('LY-FLC', 'B737-300', 'BOEING 737-300', 'SMALL PLANET AIRLINES S.r.l.', 'IT', 'Italy', 'T')\n",
      "('LY-GGC', 'B737-300', 'BOEING 737-300', 'UAB “Grand Cru Airlines”', 'LT', 'Lithuania', 'T')\n",
      "('LY-LGC', 'B737-300', 'BOEING 737-300', 'UAB “Grand Cru Airlines”', 'LT', 'Lithuania', 'T')\n",
      "('LY-AQX', 'B737-300', 'BOEING 737-300', 'SMALL PLANET AIRLINES, UAB', 'LT', 'Lithuania', 'T')\n",
      "('LY-FLJ', 'B737-300', 'BOEING 737-300', 'SMALL PLANET AIRLINES, UAB', 'LT', 'Lithuania', 'T')\n",
      "('LY-AQV', 'B737-300', 'BOEING 737-300', 'SMALL PLANET AIRLINES, UAB', 'LT', 'Lithuania', 'T')\n",
      "('LY-SPE', 'B737-300', 'BOEING 737-300', 'SMALL PLANET AIRLINES, UAB', 'LT', 'Lithuania', 'T')\n",
      "('LY-FLH', 'B737-300', 'BOEING 737-300', 'SMALL PLANET AIRLINES, UAB', 'LT', 'Lithuania', 'T')\n",
      "('HS-KMB', 'B737-400', 'BOEING 737-400', 'Storm Aviation Cyprus Ltd.', 'CY', 'Cyprus', 'T')\n",
      "('LY-PGC', 'B737-400', 'BOEING 737-400', 'UAB “Grand Cru Airlines”', 'LT', 'Lithuania', 'T')\n",
      "('LY-MGC', 'B737-400', 'BOEING 737-400', 'UAB “Grand Cru Airlines”', 'LT', 'Lithuania', 'T')\n",
      "('LY-CGC', 'B737-400', 'BOEING 737-400', 'UAB “Grand Cru Airlines”', 'LT', 'Lithuania', 'T')\n",
      "('HS-KMA', 'B737-400', 'BOEING 737-400', 'Storm Aviation Cyprus Ltd.', 'CY', 'Cyprus', 'T')\n",
      "('LY-GTW', 'B737-400', 'BOEING 737-400', 'UAB “Grand Cru Airlines”', 'LT', 'Lithuania', 'T')\n",
      "('HS-KMC', 'B737-400', 'BOEING 737-400', 'Storm Aviation Cyprus Ltd.', 'CY', 'Cyprus', 'T')\n",
      "('857946', 'B737-400', 'BOEING 737-400', 'FL TECHNICS, UAB', 'LT', 'Lithuania', 'T')\n",
      "('N/A', 'B737-400', 'BOEING 737-400', 'FL TECHNICS, UAB', 'LT', 'Lithuania', 'T')\n",
      "('SP-ENK', 'B737-400', 'BOEING 737-400', 'Enter Air Sp. z o.o.', 'PL', 'Poland', 'T')\n",
      "('SP-ENI', 'B737-400', 'BOEING 737-400', 'Enter Air Sp. z o.o.', 'PL', 'Poland', 'T')\n",
      "('SP-ENH', 'B737-400', 'BOEING 737-400', 'Enter Air Sp. z o.o.', 'PL', 'Poland', 'T')\n",
      "('SP-ENE', 'B737-400', 'BOEING 737-400', 'Enter Air Sp. z o.o.', 'PL', 'Poland', 'T')\n",
      "('SP-ENC', 'B737-400', 'BOEING 737-400', 'Enter Air Sp. z o.o.', 'PL', 'Poland', 'T')\n",
      "('SP-ENB', 'B737-400', 'BOEING 737-400', 'Enter Air Sp. z o.o.', 'PL', 'Poland', 'T')\n",
      "('SP-ENA', 'B737-400', 'BOEING 737-400', 'Enter Air Sp. z o.o.', 'PL', 'Poland', 'T')\n",
      "('SP-ENF', 'B737-400', 'BOEING 737-400', 'Enter Air Sp. z o.o.', 'PL', 'Poland', 'T')\n",
      "('VP-BYJ', 'B737-500', 'BOEING 737-500', 'Dikkys Investments Limited', 'CY', 'Cyprus', 'T')\n",
      "('SP-ENR', 'B737-800', 'BOEING 737-800', 'Enter Air Sp. z o.o.', 'PL', 'Poland', 'T')\n",
      "('SP-ENT', 'B737-800', 'BOEING 737-800', 'Enter Air Sp. z o.o.', 'PL', 'Poland', 'T')\n",
      "('SP-ENQ', 'B737-800', 'BOEING 737-800', 'Enter Air Sp. z o.o.', 'PL', 'Poland', 'T')\n",
      "('SP-ENP', 'B737-800', 'BOEING 737-800', 'Enter Air Sp. z o.o.', 'PL', 'Poland', 'T')\n",
      "('SP-ENO', 'B737-800', 'BOEING 737-800', 'Enter Air Sp. z o.o.', 'PL', 'Poland', 'T')\n",
      "('SP-ENV ', 'B737-800', 'BOEING 737-800', 'Enter Air Sp. z o.o.', 'PL', 'Poland', 'T')\n",
      "('SP-ENW', 'B737-800', 'BOEING 737-800', 'Enter Air Sp. z o.o.', 'PL', 'Poland', 'T')\n",
      "('SP-ENZ', 'B737-800', 'BOEING 737-800', 'Enter Air Sp. z o.o.', 'PL', 'Poland', 'T')\n",
      "('SP-ENX', 'B737-800', 'BOEING 737-800', 'Enter Air Sp. z o.o.', 'PL', 'Poland', 'T')\n",
      "('SP-ENY', 'B737-800', 'BOEING 737-800', 'Enter Air Sp. z o.o.', 'PL', 'Poland', 'T')\n",
      "('SP-ENU', 'B737-800', 'BOEING 737-800', 'Enter Air Sp. z o.o.', 'PL', 'Poland', 'T')\n",
      "('LY-ONJ', 'A320', 'AIRBUS A320', 'SMALL PLANET AIRLINES, UAB', 'LT', 'Lithuania', 'T')\n",
      "('SP-HAG', 'A320', 'AIRBUS A320', 'Small Planet Airlines Sp. z o.o.', 'PL', 'Poland', 'T')\n",
      "('B78', 'A320', 'AIRBUS A320', 'FL TECHNICS, UAB', 'LT', 'Lithuania', 'T')\n",
      "('LY-ONL', 'A320', 'AIRBUS A320', 'SMALL PLANET AIRLINES, UAB', 'LT', 'Lithuania', 'T')\n",
      "('SP-HAH', 'A320', 'AIRBUS A320', 'Small Planet Airlines Sp. z o.o.', 'PL', 'Poland', 'T')\n",
      "('D-ASPI', 'A320', 'AIRBUS A320', 'Small Planet Airlines GmbH', 'DE', 'Germany', 'T')\n",
      "('D-ASPG', 'A320', 'AIRBUS A320', 'Small Planet Airlines GmbH', 'DE', 'Germany', 'T')\n",
      "('D-ABDB', 'A320', 'AIRBUS A320', 'Small Planet Airlines GmbH', 'DE', 'Germany', 'T')\n",
      "('XU-802 (LY-SPG)', 'A320', 'AIRBUS A320', 'SMALL PLANET AIRLINES, UAB', 'LT', 'Lithuania', 'T')\n",
      "('LY-SPF', 'A320', 'AIRBUS A320', 'SMALL PLANET AIRLINES, UAB', 'LT', 'Lithuania', 'T')\n",
      "('SP-HAI', 'A320', 'AIRBUS A320', 'Small Planet Airlines Sp. z o.o.', 'PL', 'Poland', 'T')\n",
      "('D-ASPF', 'A320', 'AIRBUS A320', 'Small Planet Airlines GmbH', 'DE', 'Germany', 'T')\n",
      "('D-ASPE', 'A320', 'AIRBUS A320', 'Small Planet Airlines GmbH', 'DE', 'Germany', 'T')\n",
      "('LY-SPD', 'A320', 'AIRBUS A320', 'SMALL PLANET AIRLINES, UAB', 'LT', 'Lithuania', 'T')\n",
      "('LY-SPI', 'A320', 'AIRBUS A320', 'Small Planet Airlines Sp. z o.o.', 'PL', 'Poland', 'T')\n",
      "('SP-HAD', 'A320', 'AIRBUS A320', 'Small Planet Airlines Sp. z o.o.', 'PL', 'Poland', 'T')\n",
      "('LY-SPJ', 'A320', 'AIRBUS A320', 'Small Planet Airlines Sp. z o.o.', 'PL', 'Poland', 'T')\n",
      "('LY-SPK', 'A320', 'AIRBUS A320', 'Small Planet Airlines Sp. z o.o.', 'PL', 'Poland', 'T')\n",
      "('LY-SPC', 'A320', 'AIRBUS A320', 'SMALL PLANET AIRLINES, UAB', 'LT', 'Lithuania', 'T')\n",
      "('LY-SPB', 'A320', 'AIRBUS A320', 'SMALL PLANET AIRLINES, UAB', 'LT', 'Lithuania', 'T')\n",
      "('LY-SPA', 'A320', 'AIRBUS A320', 'SMALL PLANET AIRLINES, UAB', 'LT', 'Lithuania', 'T')\n",
      "('LY-SPH', 'A320', 'AIRBUS A320', 'Small Planet Airlines Sp. z o.o.', 'PL', 'Poland', 'T')\n",
      "('SP-HAZ', 'A321', 'AIRBUS A321', 'Small Planet Airlines Sp. z o.o.', 'PL', 'Poland', 'T')\n",
      "('SP-HAY', 'A321', 'AIRBUS A321', 'Small Planet Airlines Sp. z o.o.', 'PL', 'Poland', 'T')\n",
      "('SP-HAX', 'A321', 'AIRBUS A321', 'Small Planet Airlines Sp. z o.o.', 'PL', 'Poland', 'T')\n",
      "('SP-HAW', 'A321', 'AIRBUS A321', 'Small Planet Airlines Sp. z o.o.', 'PL', 'Poland', 'T')\n",
      "('SP-HAV', 'A321', 'AIRBUS A321', 'Small Planet Airlines Sp. z o.o.', 'PL', 'Poland', 'T')\n",
      "('SP-HAU', 'A321', 'AIRBUS A321', 'Small Planet Airlines Sp. z o.o.', 'PL', 'Poland', 'T')\n",
      "('D-ASPD', 'A321', 'AIRBUS A321', 'Small Planet Airlines GmbH', 'DE', 'Germany', 'T')\n",
      "('D-ASPC', 'A321', 'AIRBUS A321', 'Small Planet Airlines GmbH', 'DE', 'Germany', 'T')\n",
      "('SP-KTF', 'ATR42-300', 'ATR 42-300', 'OLT Express Regional Sp. z o.o.', 'PL', 'Poland', 'T')\n",
      "('SP-KTR', 'ATR42-300', 'ATR 42-300', 'OLT Express Regional Sp. z o.o.', 'PL', 'Poland', 'T')\n",
      "('SP-OLL', 'ATR72-200', 'ATR 72-200', 'OLT Express Regional Sp. z o.o.', 'PL', 'Poland', 'T')\n",
      "('SP-OLH', 'ATR72-200', 'ATR 72-200', 'OLT Express Regional Sp. z o.o.', 'PL', 'Poland', 'T')\n"
     ]
    }
   ],
   "source": [
    "import psycopg2\n",
    "\n",
    "conn = psycopg2.connect(database='lektuvai', user='Laima', password='Laima', host='localhost', port=\"5432\")\n",
    "cursor = conn.cursor()\n",
    "cursor.execute(\"SELECT TAIL_NUMBER, MODEL_NUMBER, DESCRIPTION AS MODEL_DESCRIPTION, COMPANY_NAME AS OWNER_COMPANY_NAME, CODE AS COMPANY_COUNTRY_CODE, COUNTRY_NAME AS COMPANY_COUNTRY_NAME, SDF_COC_003 FROM MODEL JOIN AIRCRAFT ON MODEL.MDL_AUTO_KEY = AIRCRAFT.MDL_AUTO_KEY JOIN COMPANIES ON AIRCRAFT.CMP_OWNER = COMPANIES.CMP_AUTO_KEY JOIN COUNTRY_CODES ON COMPANIES.COC_AUTO_KEY = COUNTRY_CODES.COC_AUTO_KEY WHERE SDF_COC_003 = 'T'\")\n",
    "row = cursor.fetchone()\n",
    "rows = cursor.fetchall()\n",
    "for row in rows:\n",
    "    print(row)\n",
    "conn.close()\n"
   ]
  },
  {
   "cell_type": "code",
   "execution_count": 1,
   "metadata": {},
   "outputs": [
    {
     "ename": "ConnectionRefusedError",
     "evalue": "[WinError 10061] Neįmanomas joks ryšys, nes paskirties kompiuteris aktyviai to atsisakė",
     "output_type": "error",
     "traceback": [
      "\u001b[1;31m---------------------------------------------------------------------------\u001b[0m",
      "\u001b[1;31mConnectionRefusedError\u001b[0m                    Traceback (most recent call last)",
      "\u001b[1;32m<ipython-input-1-2914bf13a380>\u001b[0m in \u001b[0;36m<module>\u001b[1;34m\u001b[0m\n\u001b[0;32m     10\u001b[0m \u001b[1;33m\u001b[0m\u001b[0m\n\u001b[0;32m     11\u001b[0m \u001b[0msender\u001b[0m \u001b[1;33m=\u001b[0m \u001b[0mMailer\u001b[0m\u001b[1;33m(\u001b[0m\u001b[1;34m'smtp.yahoo.com'\u001b[0m\u001b[1;33m)\u001b[0m\u001b[1;33m\u001b[0m\u001b[1;33m\u001b[0m\u001b[0m\n\u001b[1;32m---> 12\u001b[1;33m \u001b[0msender\u001b[0m\u001b[1;33m.\u001b[0m\u001b[0msend\u001b[0m\u001b[1;33m(\u001b[0m\u001b[0mmessage\u001b[0m\u001b[1;33m)\u001b[0m\u001b[1;33m\u001b[0m\u001b[1;33m\u001b[0m\u001b[0m\n\u001b[0m",
      "\u001b[1;32m~\\Anaconda3\\lib\\site-packages\\mailer.py\u001b[0m in \u001b[0;36msend\u001b[1;34m(self, msg, debug)\u001b[0m\n\u001b[0;32m    102\u001b[0m             \u001b[0mserver\u001b[0m \u001b[1;33m=\u001b[0m \u001b[0msmtplib\u001b[0m\u001b[1;33m.\u001b[0m\u001b[0mSMTP_SSL\u001b[0m\u001b[1;33m(\u001b[0m\u001b[0mself\u001b[0m\u001b[1;33m.\u001b[0m\u001b[0mhost\u001b[0m\u001b[1;33m,\u001b[0m \u001b[0mself\u001b[0m\u001b[1;33m.\u001b[0m\u001b[0mport\u001b[0m\u001b[1;33m,\u001b[0m \u001b[0mtimeout\u001b[0m\u001b[1;33m=\u001b[0m\u001b[0mself\u001b[0m\u001b[1;33m.\u001b[0m\u001b[0mtimeout\u001b[0m\u001b[1;33m)\u001b[0m\u001b[1;33m\u001b[0m\u001b[1;33m\u001b[0m\u001b[0m\n\u001b[0;32m    103\u001b[0m         \u001b[1;32melse\u001b[0m\u001b[1;33m:\u001b[0m\u001b[1;33m\u001b[0m\u001b[1;33m\u001b[0m\u001b[0m\n\u001b[1;32m--> 104\u001b[1;33m             \u001b[0mserver\u001b[0m \u001b[1;33m=\u001b[0m \u001b[0msmtplib\u001b[0m\u001b[1;33m.\u001b[0m\u001b[0mSMTP\u001b[0m\u001b[1;33m(\u001b[0m\u001b[0mself\u001b[0m\u001b[1;33m.\u001b[0m\u001b[0mhost\u001b[0m\u001b[1;33m,\u001b[0m \u001b[0mself\u001b[0m\u001b[1;33m.\u001b[0m\u001b[0mport\u001b[0m\u001b[1;33m,\u001b[0m \u001b[0mtimeout\u001b[0m\u001b[1;33m=\u001b[0m\u001b[0mself\u001b[0m\u001b[1;33m.\u001b[0m\u001b[0mtimeout\u001b[0m\u001b[1;33m)\u001b[0m\u001b[1;33m\u001b[0m\u001b[1;33m\u001b[0m\u001b[0m\n\u001b[0m\u001b[0;32m    105\u001b[0m \u001b[1;33m\u001b[0m\u001b[0m\n\u001b[0;32m    106\u001b[0m         \u001b[1;32mif\u001b[0m \u001b[0mdebug\u001b[0m\u001b[1;33m:\u001b[0m\u001b[1;33m\u001b[0m\u001b[1;33m\u001b[0m\u001b[0m\n",
      "\u001b[1;32m~\\Anaconda3\\lib\\smtplib.py\u001b[0m in \u001b[0;36m__init__\u001b[1;34m(self, host, port, local_hostname, timeout, source_address)\u001b[0m\n\u001b[0;32m    249\u001b[0m \u001b[1;33m\u001b[0m\u001b[0m\n\u001b[0;32m    250\u001b[0m         \u001b[1;32mif\u001b[0m \u001b[0mhost\u001b[0m\u001b[1;33m:\u001b[0m\u001b[1;33m\u001b[0m\u001b[1;33m\u001b[0m\u001b[0m\n\u001b[1;32m--> 251\u001b[1;33m             \u001b[1;33m(\u001b[0m\u001b[0mcode\u001b[0m\u001b[1;33m,\u001b[0m \u001b[0mmsg\u001b[0m\u001b[1;33m)\u001b[0m \u001b[1;33m=\u001b[0m \u001b[0mself\u001b[0m\u001b[1;33m.\u001b[0m\u001b[0mconnect\u001b[0m\u001b[1;33m(\u001b[0m\u001b[0mhost\u001b[0m\u001b[1;33m,\u001b[0m \u001b[0mport\u001b[0m\u001b[1;33m)\u001b[0m\u001b[1;33m\u001b[0m\u001b[1;33m\u001b[0m\u001b[0m\n\u001b[0m\u001b[0;32m    252\u001b[0m             \u001b[1;32mif\u001b[0m \u001b[0mcode\u001b[0m \u001b[1;33m!=\u001b[0m \u001b[1;36m220\u001b[0m\u001b[1;33m:\u001b[0m\u001b[1;33m\u001b[0m\u001b[1;33m\u001b[0m\u001b[0m\n\u001b[0;32m    253\u001b[0m                 \u001b[0mself\u001b[0m\u001b[1;33m.\u001b[0m\u001b[0mclose\u001b[0m\u001b[1;33m(\u001b[0m\u001b[1;33m)\u001b[0m\u001b[1;33m\u001b[0m\u001b[1;33m\u001b[0m\u001b[0m\n",
      "\u001b[1;32m~\\Anaconda3\\lib\\smtplib.py\u001b[0m in \u001b[0;36mconnect\u001b[1;34m(self, host, port, source_address)\u001b[0m\n\u001b[0;32m    334\u001b[0m         \u001b[1;32mif\u001b[0m \u001b[0mself\u001b[0m\u001b[1;33m.\u001b[0m\u001b[0mdebuglevel\u001b[0m \u001b[1;33m>\u001b[0m \u001b[1;36m0\u001b[0m\u001b[1;33m:\u001b[0m\u001b[1;33m\u001b[0m\u001b[1;33m\u001b[0m\u001b[0m\n\u001b[0;32m    335\u001b[0m             \u001b[0mself\u001b[0m\u001b[1;33m.\u001b[0m\u001b[0m_print_debug\u001b[0m\u001b[1;33m(\u001b[0m\u001b[1;34m'connect:'\u001b[0m\u001b[1;33m,\u001b[0m \u001b[1;33m(\u001b[0m\u001b[0mhost\u001b[0m\u001b[1;33m,\u001b[0m \u001b[0mport\u001b[0m\u001b[1;33m)\u001b[0m\u001b[1;33m)\u001b[0m\u001b[1;33m\u001b[0m\u001b[1;33m\u001b[0m\u001b[0m\n\u001b[1;32m--> 336\u001b[1;33m         \u001b[0mself\u001b[0m\u001b[1;33m.\u001b[0m\u001b[0msock\u001b[0m \u001b[1;33m=\u001b[0m \u001b[0mself\u001b[0m\u001b[1;33m.\u001b[0m\u001b[0m_get_socket\u001b[0m\u001b[1;33m(\u001b[0m\u001b[0mhost\u001b[0m\u001b[1;33m,\u001b[0m \u001b[0mport\u001b[0m\u001b[1;33m,\u001b[0m \u001b[0mself\u001b[0m\u001b[1;33m.\u001b[0m\u001b[0mtimeout\u001b[0m\u001b[1;33m)\u001b[0m\u001b[1;33m\u001b[0m\u001b[1;33m\u001b[0m\u001b[0m\n\u001b[0m\u001b[0;32m    337\u001b[0m         \u001b[0mself\u001b[0m\u001b[1;33m.\u001b[0m\u001b[0mfile\u001b[0m \u001b[1;33m=\u001b[0m \u001b[1;32mNone\u001b[0m\u001b[1;33m\u001b[0m\u001b[1;33m\u001b[0m\u001b[0m\n\u001b[0;32m    338\u001b[0m         \u001b[1;33m(\u001b[0m\u001b[0mcode\u001b[0m\u001b[1;33m,\u001b[0m \u001b[0mmsg\u001b[0m\u001b[1;33m)\u001b[0m \u001b[1;33m=\u001b[0m \u001b[0mself\u001b[0m\u001b[1;33m.\u001b[0m\u001b[0mgetreply\u001b[0m\u001b[1;33m(\u001b[0m\u001b[1;33m)\u001b[0m\u001b[1;33m\u001b[0m\u001b[1;33m\u001b[0m\u001b[0m\n",
      "\u001b[1;32m~\\Anaconda3\\lib\\smtplib.py\u001b[0m in \u001b[0;36m_get_socket\u001b[1;34m(self, host, port, timeout)\u001b[0m\n\u001b[0;32m    305\u001b[0m             \u001b[0mself\u001b[0m\u001b[1;33m.\u001b[0m\u001b[0m_print_debug\u001b[0m\u001b[1;33m(\u001b[0m\u001b[1;34m'connect: to'\u001b[0m\u001b[1;33m,\u001b[0m \u001b[1;33m(\u001b[0m\u001b[0mhost\u001b[0m\u001b[1;33m,\u001b[0m \u001b[0mport\u001b[0m\u001b[1;33m)\u001b[0m\u001b[1;33m,\u001b[0m \u001b[0mself\u001b[0m\u001b[1;33m.\u001b[0m\u001b[0msource_address\u001b[0m\u001b[1;33m)\u001b[0m\u001b[1;33m\u001b[0m\u001b[1;33m\u001b[0m\u001b[0m\n\u001b[0;32m    306\u001b[0m         return socket.create_connection((host, port), timeout,\n\u001b[1;32m--> 307\u001b[1;33m                                         self.source_address)\n\u001b[0m\u001b[0;32m    308\u001b[0m \u001b[1;33m\u001b[0m\u001b[0m\n\u001b[0;32m    309\u001b[0m     \u001b[1;32mdef\u001b[0m \u001b[0mconnect\u001b[0m\u001b[1;33m(\u001b[0m\u001b[0mself\u001b[0m\u001b[1;33m,\u001b[0m \u001b[0mhost\u001b[0m\u001b[1;33m=\u001b[0m\u001b[1;34m'localhost'\u001b[0m\u001b[1;33m,\u001b[0m \u001b[0mport\u001b[0m\u001b[1;33m=\u001b[0m\u001b[1;36m0\u001b[0m\u001b[1;33m,\u001b[0m \u001b[0msource_address\u001b[0m\u001b[1;33m=\u001b[0m\u001b[1;32mNone\u001b[0m\u001b[1;33m)\u001b[0m\u001b[1;33m:\u001b[0m\u001b[1;33m\u001b[0m\u001b[1;33m\u001b[0m\u001b[0m\n",
      "\u001b[1;32m~\\Anaconda3\\lib\\socket.py\u001b[0m in \u001b[0;36mcreate_connection\u001b[1;34m(address, timeout, source_address)\u001b[0m\n\u001b[0;32m    725\u001b[0m \u001b[1;33m\u001b[0m\u001b[0m\n\u001b[0;32m    726\u001b[0m     \u001b[1;32mif\u001b[0m \u001b[0merr\u001b[0m \u001b[1;32mis\u001b[0m \u001b[1;32mnot\u001b[0m \u001b[1;32mNone\u001b[0m\u001b[1;33m:\u001b[0m\u001b[1;33m\u001b[0m\u001b[1;33m\u001b[0m\u001b[0m\n\u001b[1;32m--> 727\u001b[1;33m         \u001b[1;32mraise\u001b[0m \u001b[0merr\u001b[0m\u001b[1;33m\u001b[0m\u001b[1;33m\u001b[0m\u001b[0m\n\u001b[0m\u001b[0;32m    728\u001b[0m     \u001b[1;32melse\u001b[0m\u001b[1;33m:\u001b[0m\u001b[1;33m\u001b[0m\u001b[1;33m\u001b[0m\u001b[0m\n\u001b[0;32m    729\u001b[0m         \u001b[1;32mraise\u001b[0m \u001b[0merror\u001b[0m\u001b[1;33m(\u001b[0m\u001b[1;34m\"getaddrinfo returns an empty list\"\u001b[0m\u001b[1;33m)\u001b[0m\u001b[1;33m\u001b[0m\u001b[1;33m\u001b[0m\u001b[0m\n",
      "\u001b[1;32m~\\Anaconda3\\lib\\socket.py\u001b[0m in \u001b[0;36mcreate_connection\u001b[1;34m(address, timeout, source_address)\u001b[0m\n\u001b[0;32m    714\u001b[0m             \u001b[1;32mif\u001b[0m \u001b[0msource_address\u001b[0m\u001b[1;33m:\u001b[0m\u001b[1;33m\u001b[0m\u001b[1;33m\u001b[0m\u001b[0m\n\u001b[0;32m    715\u001b[0m                 \u001b[0msock\u001b[0m\u001b[1;33m.\u001b[0m\u001b[0mbind\u001b[0m\u001b[1;33m(\u001b[0m\u001b[0msource_address\u001b[0m\u001b[1;33m)\u001b[0m\u001b[1;33m\u001b[0m\u001b[1;33m\u001b[0m\u001b[0m\n\u001b[1;32m--> 716\u001b[1;33m             \u001b[0msock\u001b[0m\u001b[1;33m.\u001b[0m\u001b[0mconnect\u001b[0m\u001b[1;33m(\u001b[0m\u001b[0msa\u001b[0m\u001b[1;33m)\u001b[0m\u001b[1;33m\u001b[0m\u001b[1;33m\u001b[0m\u001b[0m\n\u001b[0m\u001b[0;32m    717\u001b[0m             \u001b[1;31m# Break explicitly a reference cycle\u001b[0m\u001b[1;33m\u001b[0m\u001b[1;33m\u001b[0m\u001b[1;33m\u001b[0m\u001b[0m\n\u001b[0;32m    718\u001b[0m             \u001b[0merr\u001b[0m \u001b[1;33m=\u001b[0m \u001b[1;32mNone\u001b[0m\u001b[1;33m\u001b[0m\u001b[1;33m\u001b[0m\u001b[0m\n",
      "\u001b[1;31mConnectionRefusedError\u001b[0m: [WinError 10061] Neįmanomas joks ryšys, nes paskirties kompiuteris aktyviai to atsisakė"
     ]
    }
   ],
   "source": [
    "from mailer import Mailer\n",
    "from mailer import Message\n",
    "\n",
    "message = Message(From=\"ramane.laima@gmail.com\",\n",
    "                  To=\"laimaram@yahoo.com\")\n",
    "message.Subject = \"An HTML Email\"\n",
    "message.Html = \"\"\"<p>Hi!<br>\n",
    "   How are you?<br>\n",
    "   Here is the <a href=\"http://www.python.org\">link</a> you wanted.</p>\"\"\"\n",
    "\n",
    "sender = Mailer('smtp.yahoo.com')\n",
    "sender.send(message)"
   ]
  },
  {
   "cell_type": "code",
   "execution_count": 4,
   "metadata": {},
   "outputs": [
    {
     "ename": "SMTPAuthenticationError",
     "evalue": "(535, b'5.7.8 Username and Password not accepted. Learn more at\\n5.7.8  https://support.google.com/mail/?p=BadCredentials d4sm1228023lfg.79 - gsmtp')",
     "output_type": "error",
     "traceback": [
      "\u001b[1;31m---------------------------------------------------------------------------\u001b[0m",
      "\u001b[1;31mSMTPAuthenticationError\u001b[0m                   Traceback (most recent call last)",
      "\u001b[1;32m<ipython-input-4-b44549d57c7b>\u001b[0m in \u001b[0;36m<module>\u001b[1;34m\u001b[0m\n\u001b[0;32m      4\u001b[0m \u001b[0mmail\u001b[0m\u001b[1;33m.\u001b[0m\u001b[0mehlo\u001b[0m\u001b[1;33m(\u001b[0m\u001b[1;33m)\u001b[0m\u001b[1;33m\u001b[0m\u001b[1;33m\u001b[0m\u001b[0m\n\u001b[0;32m      5\u001b[0m \u001b[0mmail\u001b[0m\u001b[1;33m.\u001b[0m\u001b[0mstarttls\u001b[0m\u001b[1;33m(\u001b[0m\u001b[1;33m)\u001b[0m\u001b[1;33m\u001b[0m\u001b[1;33m\u001b[0m\u001b[0m\n\u001b[1;32m----> 6\u001b[1;33m \u001b[0mmail\u001b[0m\u001b[1;33m.\u001b[0m\u001b[0mlogin\u001b[0m\u001b[1;33m(\u001b[0m\u001b[1;34m'laimaram@yahoo.com'\u001b[0m\u001b[1;33m,\u001b[0m \u001b[1;34m'Sssgk108108'\u001b[0m\u001b[1;33m)\u001b[0m\u001b[1;33m\u001b[0m\u001b[1;33m\u001b[0m\u001b[0m\n\u001b[0m\u001b[0;32m      7\u001b[0m \u001b[0mmail\u001b[0m\u001b[1;33m.\u001b[0m\u001b[0msendmail\u001b[0m\u001b[1;33m(\u001b[0m\u001b[1;34m'laimaram@yahoo.com'\u001b[0m\u001b[1;33m,\u001b[0m \u001b[1;34m'ramane.laima@gmail.com'\u001b[0m\u001b[1;33m,\u001b[0m \u001b[0mcontent\u001b[0m\u001b[1;33m)\u001b[0m\u001b[1;33m\u001b[0m\u001b[1;33m\u001b[0m\u001b[0m\n\u001b[0;32m      8\u001b[0m \u001b[0mmail\u001b[0m\u001b[1;33m.\u001b[0m\u001b[0mclose\u001b[0m\u001b[1;33m(\u001b[0m\u001b[1;33m)\u001b[0m\u001b[1;33m\u001b[0m\u001b[1;33m\u001b[0m\u001b[0m\n",
      "\u001b[1;32m~\\Anaconda3\\lib\\smtplib.py\u001b[0m in \u001b[0;36mlogin\u001b[1;34m(self, user, password, initial_response_ok)\u001b[0m\n\u001b[0;32m    728\u001b[0m \u001b[1;33m\u001b[0m\u001b[0m\n\u001b[0;32m    729\u001b[0m         \u001b[1;31m# We could not login successfully.  Return result of last attempt.\u001b[0m\u001b[1;33m\u001b[0m\u001b[1;33m\u001b[0m\u001b[1;33m\u001b[0m\u001b[0m\n\u001b[1;32m--> 730\u001b[1;33m         \u001b[1;32mraise\u001b[0m \u001b[0mlast_exception\u001b[0m\u001b[1;33m\u001b[0m\u001b[1;33m\u001b[0m\u001b[0m\n\u001b[0m\u001b[0;32m    731\u001b[0m \u001b[1;33m\u001b[0m\u001b[0m\n\u001b[0;32m    732\u001b[0m     \u001b[1;32mdef\u001b[0m \u001b[0mstarttls\u001b[0m\u001b[1;33m(\u001b[0m\u001b[0mself\u001b[0m\u001b[1;33m,\u001b[0m \u001b[0mkeyfile\u001b[0m\u001b[1;33m=\u001b[0m\u001b[1;32mNone\u001b[0m\u001b[1;33m,\u001b[0m \u001b[0mcertfile\u001b[0m\u001b[1;33m=\u001b[0m\u001b[1;32mNone\u001b[0m\u001b[1;33m,\u001b[0m \u001b[0mcontext\u001b[0m\u001b[1;33m=\u001b[0m\u001b[1;32mNone\u001b[0m\u001b[1;33m)\u001b[0m\u001b[1;33m:\u001b[0m\u001b[1;33m\u001b[0m\u001b[1;33m\u001b[0m\u001b[0m\n",
      "\u001b[1;32m~\\Anaconda3\\lib\\smtplib.py\u001b[0m in \u001b[0;36mlogin\u001b[1;34m(self, user, password, initial_response_ok)\u001b[0m\n\u001b[0;32m    719\u001b[0m                 (code, resp) = self.auth(\n\u001b[0;32m    720\u001b[0m                     \u001b[0mauthmethod\u001b[0m\u001b[1;33m,\u001b[0m \u001b[0mgetattr\u001b[0m\u001b[1;33m(\u001b[0m\u001b[0mself\u001b[0m\u001b[1;33m,\u001b[0m \u001b[0mmethod_name\u001b[0m\u001b[1;33m)\u001b[0m\u001b[1;33m,\u001b[0m\u001b[1;33m\u001b[0m\u001b[1;33m\u001b[0m\u001b[0m\n\u001b[1;32m--> 721\u001b[1;33m                     initial_response_ok=initial_response_ok)\n\u001b[0m\u001b[0;32m    722\u001b[0m                 \u001b[1;31m# 235 == 'Authentication successful'\u001b[0m\u001b[1;33m\u001b[0m\u001b[1;33m\u001b[0m\u001b[1;33m\u001b[0m\u001b[0m\n\u001b[0;32m    723\u001b[0m                 \u001b[1;31m# 503 == 'Error: already authenticated'\u001b[0m\u001b[1;33m\u001b[0m\u001b[1;33m\u001b[0m\u001b[1;33m\u001b[0m\u001b[0m\n",
      "\u001b[1;32m~\\Anaconda3\\lib\\smtplib.py\u001b[0m in \u001b[0;36mauth\u001b[1;34m(self, mechanism, authobject, initial_response_ok)\u001b[0m\n\u001b[0;32m    640\u001b[0m         \u001b[1;32mif\u001b[0m \u001b[0mcode\u001b[0m \u001b[1;32min\u001b[0m \u001b[1;33m(\u001b[0m\u001b[1;36m235\u001b[0m\u001b[1;33m,\u001b[0m \u001b[1;36m503\u001b[0m\u001b[1;33m)\u001b[0m\u001b[1;33m:\u001b[0m\u001b[1;33m\u001b[0m\u001b[1;33m\u001b[0m\u001b[0m\n\u001b[0;32m    641\u001b[0m             \u001b[1;32mreturn\u001b[0m \u001b[1;33m(\u001b[0m\u001b[0mcode\u001b[0m\u001b[1;33m,\u001b[0m \u001b[0mresp\u001b[0m\u001b[1;33m)\u001b[0m\u001b[1;33m\u001b[0m\u001b[1;33m\u001b[0m\u001b[0m\n\u001b[1;32m--> 642\u001b[1;33m         \u001b[1;32mraise\u001b[0m \u001b[0mSMTPAuthenticationError\u001b[0m\u001b[1;33m(\u001b[0m\u001b[0mcode\u001b[0m\u001b[1;33m,\u001b[0m \u001b[0mresp\u001b[0m\u001b[1;33m)\u001b[0m\u001b[1;33m\u001b[0m\u001b[1;33m\u001b[0m\u001b[0m\n\u001b[0m\u001b[0;32m    643\u001b[0m \u001b[1;33m\u001b[0m\u001b[0m\n\u001b[0;32m    644\u001b[0m     \u001b[1;32mdef\u001b[0m \u001b[0mauth_cram_md5\u001b[0m\u001b[1;33m(\u001b[0m\u001b[0mself\u001b[0m\u001b[1;33m,\u001b[0m \u001b[0mchallenge\u001b[0m\u001b[1;33m=\u001b[0m\u001b[1;32mNone\u001b[0m\u001b[1;33m)\u001b[0m\u001b[1;33m:\u001b[0m\u001b[1;33m\u001b[0m\u001b[1;33m\u001b[0m\u001b[0m\n",
      "\u001b[1;31mSMTPAuthenticationError\u001b[0m: (535, b'5.7.8 Username and Password not accepted. Learn more at\\n5.7.8  https://support.google.com/mail/?p=BadCredentials d4sm1228023lfg.79 - gsmtp')"
     ]
    }
   ],
   "source": [
    "import smtplib\n",
    "content = \"Text testas\"\n",
    "mail = smtplib.SMTP('smtp.gmail.com',587)\n",
    "mail.ehlo()\n",
    "mail.starttls()\n",
    "mail.login('laimaram@yahoo.com', 'password')\n",
    "mail.sendmail('laimaram@yahoo.com', 'ramane.laima@gmail.com', content)\n",
    "mail.close()"
   ]
  },
  {
   "cell_type": "code",
   "execution_count": null,
   "metadata": {},
   "outputs": [],
   "source": []
  }
 ],
 "metadata": {
  "kernelspec": {
   "display_name": "Python 3",
   "language": "python",
   "name": "python3"
  },
  "language_info": {
   "codemirror_mode": {
    "name": "ipython",
    "version": 3
   },
   "file_extension": ".py",
   "mimetype": "text/x-python",
   "name": "python",
   "nbconvert_exporter": "python",
   "pygments_lexer": "ipython3",
   "version": "3.7.1"
  }
 },
 "nbformat": 4,
 "nbformat_minor": 2
}
